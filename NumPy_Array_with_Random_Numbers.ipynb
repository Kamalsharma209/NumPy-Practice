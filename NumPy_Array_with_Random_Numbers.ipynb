{
  "nbformat": 4,
  "nbformat_minor": 0,
  "metadata": {
    "colab": {
      "provenance": [],
      "authorship_tag": "ABX9TyPvlJXwka5/RTLNC7gFHKAw",
      "include_colab_link": true
    },
    "kernelspec": {
      "name": "python3",
      "display_name": "Python 3"
    },
    "language_info": {
      "name": "python"
    }
  },
  "cells": [
    {
      "cell_type": "markdown",
      "metadata": {
        "id": "view-in-github",
        "colab_type": "text"
      },
      "source": [
        "<a href=\"https://colab.research.google.com/github/Kamalsharma209/NumPy-Practice/blob/main/NumPy_Array_with_Random_Numbers.ipynb\" target=\"_parent\"><img src=\"https://colab.research.google.com/assets/colab-badge.svg\" alt=\"Open In Colab\"/></a>"
      ]
    },
    {
      "cell_type": "markdown",
      "source": [
        "**Random**"
      ],
      "metadata": {
        "id": "TljBIK4qT3of"
      }
    },
    {
      "cell_type": "markdown",
      "source": [
        "**Rand-Function**:- genetrate random value between 0 to 1"
      ],
      "metadata": {
        "id": "Lv_zcBaCUAaB"
      }
    },
    {
      "cell_type": "code",
      "source": [
        "import numpy as np\n",
        "arr = np.random.rand(4)\n",
        "print(arr)"
      ],
      "metadata": {
        "colab": {
          "base_uri": "https://localhost:8080/"
        },
        "id": "ZdAYqCEBT5EE",
        "outputId": "dc73349f-6775-4150-d54f-d817dc88b271"
      },
      "execution_count": 1,
      "outputs": [
        {
          "output_type": "stream",
          "name": "stdout",
          "text": [
            "[0.30783756 0.66066736 0.09296783 0.08804548]\n"
          ]
        }
      ]
    },
    {
      "cell_type": "markdown",
      "source": [
        "**Randn-Function**:- generate random value close to zero and return positive and negative values as well."
      ],
      "metadata": {
        "id": "XSMdzUEXUHDt"
      }
    },
    {
      "cell_type": "code",
      "source": [
        "arr = np.random.randn(4)\n",
        "print(arr)"
      ],
      "metadata": {
        "colab": {
          "base_uri": "https://localhost:8080/"
        },
        "id": "lHlXwdUkUK6I",
        "outputId": "83a191ae-9e2e-4156-91fd-21130ed2e0b2"
      },
      "execution_count": 2,
      "outputs": [
        {
          "output_type": "stream",
          "name": "stdout",
          "text": [
            "[ 0.81162932  0.50546824  2.31994888 -1.54948201]\n"
          ]
        }
      ]
    },
    {
      "cell_type": "markdown",
      "source": [
        "**Randf-Function**:- fills with random floats in the half open interval[0.0,1.0).... not included 1.."
      ],
      "metadata": {
        "id": "d3eFcbVKUrEH"
      }
    },
    {
      "cell_type": "code",
      "source": [
        "arr = np.random.ranf(4)\n",
        "print(arr)"
      ],
      "metadata": {
        "colab": {
          "base_uri": "https://localhost:8080/"
        },
        "id": "lEnWw91pU-AC",
        "outputId": "ad18091a-c126-401a-ffc5-6a257f313697"
      },
      "execution_count": 3,
      "outputs": [
        {
          "output_type": "stream",
          "name": "stdout",
          "text": [
            "[0.19978387 0.07964755 0.67499417 0.04427897]\n"
          ]
        }
      ]
    },
    {
      "cell_type": "markdown",
      "source": [
        "**randint-Function**:- random numbers are given within user range"
      ],
      "metadata": {
        "id": "QE-Wx-NIVBRG"
      }
    },
    {
      "cell_type": "code",
      "source": [
        "arr = np.random.randint(2,10,(3,4))\n",
        "print(arr)"
      ],
      "metadata": {
        "colab": {
          "base_uri": "https://localhost:8080/"
        },
        "id": "n_h59TEWVLu4",
        "outputId": "0f19e681-c85a-46b4-da2b-66385718b48b"
      },
      "execution_count": 6,
      "outputs": [
        {
          "output_type": "stream",
          "name": "stdout",
          "text": [
            "[[7 3 8 2]\n",
            " [3 8 3 3]\n",
            " [9 4 4 3]]\n"
          ]
        }
      ]
    }
  ]
}
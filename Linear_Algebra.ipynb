{
  "nbformat": 4,
  "nbformat_minor": 0,
  "metadata": {
    "colab": {
      "provenance": [],
      "authorship_tag": "ABX9TyMPSbDFJCLlMqqU3LBjqozH",
      "include_colab_link": true
    },
    "kernelspec": {
      "name": "python3",
      "display_name": "Python 3"
    },
    "language_info": {
      "name": "python"
    }
  },
  "cells": [
    {
      "cell_type": "markdown",
      "metadata": {
        "id": "view-in-github",
        "colab_type": "text"
      },
      "source": [
        "<a href=\"https://colab.research.google.com/github/Kamalsharma209/NumPy-Practice/blob/main/Linear_Algebra.ipynb\" target=\"_parent\"><img src=\"https://colab.research.google.com/assets/colab-badge.svg\" alt=\"Open In Colab\"/></a>"
      ]
    },
    {
      "cell_type": "markdown",
      "source": [
        "**Linear Algebra**"
      ],
      "metadata": {
        "id": "4NOWgZHbo_u5"
      }
    },
    {
      "cell_type": "markdown",
      "source": [
        "**1. np.dot**"
      ],
      "metadata": {
        "id": "3Py4H6uLpI0h"
      }
    },
    {
      "cell_type": "code",
      "source": [
        "import numpy as np\n",
        "a = ([1,2,3])\n",
        "b=([4,5,6])\n",
        "arr = np.dot(a,b)\n",
        "print(arr)"
      ],
      "metadata": {
        "colab": {
          "base_uri": "https://localhost:8080/"
        },
        "id": "IWDZElE7pLkn",
        "outputId": "0083b658-fabe-4fa5-b908-ec4c3fc9837d"
      },
      "execution_count": 1,
      "outputs": [
        {
          "output_type": "stream",
          "name": "stdout",
          "text": [
            "32\n"
          ]
        }
      ]
    },
    {
      "cell_type": "markdown",
      "source": [
        "2. np.cross()"
      ],
      "metadata": {
        "id": "dliEw98Bp3dx"
      }
    },
    {
      "cell_type": "code",
      "source": [
        "arr = np.cross(a,b)\n",
        "print(arr)"
      ],
      "metadata": {
        "colab": {
          "base_uri": "https://localhost:8080/"
        },
        "id": "6Pkbs-fNp6sM",
        "outputId": "cbf59f02-0575-42d4-f819-95665bed45e7"
      },
      "execution_count": 2,
      "outputs": [
        {
          "output_type": "stream",
          "name": "stdout",
          "text": [
            "[-3  6 -3]\n"
          ]
        }
      ]
    },
    {
      "cell_type": "markdown",
      "source": [
        "**3. np.linear.inv()**"
      ],
      "metadata": {
        "id": "rL2fhRGKqEce"
      }
    },
    {
      "cell_type": "code",
      "source": [
        "import numpy as np\n",
        "a = np.array([[1, 2], [3, 4]]) # Example 2D array\n",
        "arr = np.linalg.inv(a)\n",
        "print(arr)"
      ],
      "metadata": {
        "colab": {
          "base_uri": "https://localhost:8080/"
        },
        "id": "8zTNqNnkqKr4",
        "outputId": "82a30c88-2edc-4332-8cfe-8685925e8788"
      },
      "execution_count": 4,
      "outputs": [
        {
          "output_type": "stream",
          "name": "stdout",
          "text": [
            "[[-2.   1. ]\n",
            " [ 1.5 -0.5]]\n"
          ]
        }
      ]
    },
    {
      "cell_type": "markdown",
      "source": [
        "**4. np.linalg.det()**"
      ],
      "metadata": {
        "id": "9JzzfoUOqYn2"
      }
    },
    {
      "cell_type": "code",
      "source": [
        "arr = np.linalg.det(a)\n",
        "print(arr)"
      ],
      "metadata": {
        "colab": {
          "base_uri": "https://localhost:8080/"
        },
        "id": "V5de_27uqeME",
        "outputId": "80fe4918-1299-45dc-c4b7-6832c8bbba6e"
      },
      "execution_count": 5,
      "outputs": [
        {
          "output_type": "stream",
          "name": "stdout",
          "text": [
            "-2.0000000000000004\n"
          ]
        }
      ]
    }
  ]
}
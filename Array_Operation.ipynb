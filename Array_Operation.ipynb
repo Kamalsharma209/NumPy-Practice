{
  "nbformat": 4,
  "nbformat_minor": 0,
  "metadata": {
    "colab": {
      "provenance": [],
      "authorship_tag": "ABX9TyMa/NZ2zc4evMJ0sStgALvE",
      "include_colab_link": true
    },
    "kernelspec": {
      "name": "python3",
      "display_name": "Python 3"
    },
    "language_info": {
      "name": "python"
    }
  },
  "cells": [
    {
      "cell_type": "markdown",
      "metadata": {
        "id": "view-in-github",
        "colab_type": "text"
      },
      "source": [
        "<a href=\"https://colab.research.google.com/github/Kamalsharma209/NumPy-Practice/blob/main/Array_Operation.ipynb\" target=\"_parent\"><img src=\"https://colab.research.google.com/assets/colab-badge.svg\" alt=\"Open In Colab\"/></a>"
      ]
    },
    {
      "cell_type": "markdown",
      "source": [
        "\n",
        "### ✅ Array Attributes\n",
        "**Definition**: Arrays have properties like shape, size, data type, and number of dimensions.\n",
        "\n",
        "**Example & Code**:\n"
      ],
      "metadata": {
        "id": "pAT3GyhGbwN6"
      }
    },
    {
      "cell_type": "code",
      "source": [
        "import numpy as np\n",
        "arr = np.array([[1, 2, 3], [4, 5, 6]])\n",
        "print('Shape:', arr.shape)  # (2, 3)\n",
        "print('Size:', arr.size)    # 6\n",
        "print('Data type:', arr.dtype)  # int64 (or similar)\n",
        "print('Dimensions:', arr.ndim)"
      ],
      "metadata": {
        "colab": {
          "base_uri": "https://localhost:8080/"
        },
        "id": "EdBjqh6Qb1Dd",
        "outputId": "838a945e-a607-4c67-96f7-ca265d57758a"
      },
      "execution_count": 2,
      "outputs": [
        {
          "output_type": "stream",
          "name": "stdout",
          "text": [
            "Shape: (2, 3)\n",
            "Size: 6\n",
            "Data type: int64\n",
            "Dimensions: 2\n"
          ]
        }
      ]
    },
    {
      "cell_type": "markdown",
      "source": [
        "### ✅ Indexing and Slicing\n",
        "**Definition**: Indexing accesses individual elements, while slicing extracts a portion of an array using `[start:stop:step]`.\n",
        "\n",
        "**Example & Code**:\n"
      ],
      "metadata": {
        "id": "KohKL8wCdXZF"
      }
    },
    {
      "cell_type": "code",
      "source": [
        "# 1D array\n",
        "arr = np.array([5, 10, 15, 20, 25])\n",
        "print('Element at index 2:', arr[2])  # 15\n",
        "print('Slice 1 to 4:', arr[1:4])      # [10, 15, 20]\n",
        "\n",
        "# 2D array\n",
        "arr2d = np.array([[1, 2, 3], [4, 5, 6]])\n",
        "print('Element at [0,1]:', arr2d[0, 1])  # 2\n",
        "print('First row:', arr2d[0, :])         # [1, 2, 3]"
      ],
      "metadata": {
        "colab": {
          "base_uri": "https://localhost:8080/"
        },
        "id": "4tsegrrQdwnr",
        "outputId": "15247858-72dc-4225-b529-6e55ea54794c"
      },
      "execution_count": 3,
      "outputs": [
        {
          "output_type": "stream",
          "name": "stdout",
          "text": [
            "Element at index 2: 15\n",
            "Slice 1 to 4: [10 15 20]\n",
            "Element at [0,1]: 2\n",
            "First row: [1 2 3]\n"
          ]
        }
      ]
    },
    {
      "cell_type": "markdown",
      "source": [
        "## 🔸 Basic Arithmetic Operations\n",
        "**Definition**: Element-wise operations like addition (`+`), subtraction (`-`), multiplication (`*`), division (`/`), floor division (`//`), modulus (`%`), and exponentiation (`**`).\n",
        "\n",
        "**Example & Code**:\n"
      ],
      "metadata": {
        "id": "wIGAgIiEd117"
      }
    },
    {
      "cell_type": "code",
      "source": [
        "x = np.array([10, 20, 30])\n",
        "y = np.array([1, 2, 3])\n",
        "print('Addition:', x + y)          # [11, 22, 33]\n",
        "print('Subtraction:', x - y)       # [9, 18, 27]\n",
        "print('Multiplication:', x*y)    # [10, 40, 90]\n",
        "print('Division:', x / y)          # [10., 10., 10.]\n",
        "print('Floor Division:', x // y)   # [10, 10, 10]\n",
        "print('Modulus:', x % y)           # [0, 0, 0]\n",
        "print('Exponentiation:', x ** 2)   # [100, 400, 900]"
      ],
      "metadata": {
        "colab": {
          "base_uri": "https://localhost:8080/"
        },
        "id": "qJV_IMrAd6AD",
        "outputId": "9007f16f-0617-41b1-d047-fe9715a8eff9"
      },
      "execution_count": 5,
      "outputs": [
        {
          "output_type": "stream",
          "name": "stdout",
          "text": [
            "Addition: [11 22 33]\n",
            "Subtraction: [ 9 18 27]\n",
            "Multiplication: [10 40 90]\n",
            "Division: [10. 10. 10.]\n",
            "Floor Division: [10 10 10]\n",
            "Modulus: [0 0 0]\n",
            "Exponentiation: [100 400 900]\n"
          ]
        }
      ]
    },
    {
      "cell_type": "markdown",
      "source": [
        "## 🔸 Universal Functions (ufuncs)\n",
        "**Definition**: NumPy’s optimized functions for mathematical operations, applied element-wise (e.g., `np.sqrt`, `np.exp`, `np.sin`, `np.log`).\n",
        "\n",
        "**Example & Code**:\n"
      ],
      "metadata": {
        "id": "Jf49PCLFeBbX"
      }
    },
    {
      "cell_type": "code",
      "source": [
        "arr = np.array([1, 4, 9])\n",
        "print('Square root:', np.sqrt(arr))    # [1., 2., 3.]\n",
        "print('Exponential:', np.exp(arr))     # [2.71828183, 54.59815003, 8103.08392758]\n",
        "print('Sine:', np.sin(arr))            # [0.84147098, -0.7568025, 0.41211849]\n",
        "print('Natural Log:', np.log(arr))     # [0., 1.38629436, 2.19722458]\n",
        "print('Absolute:', np.abs([-1, 2, -3]))  # [1, 2, 3]\n",
        "#%%\n",
        "# More ufuncs\n",
        "arr = np.array([1.2, 2.7, 3.5])\n",
        "print('Ceiling:', np.ceil(arr))    # [2., 3., 4.]\n",
        "print('Floor:', np.floor(arr))     # [1., 2., 3.]\n",
        "print('Round:', np.round(arr))     # [1., 3., 4.]"
      ],
      "metadata": {
        "colab": {
          "base_uri": "https://localhost:8080/"
        },
        "id": "-V965NoheF-k",
        "outputId": "b558e54f-a5af-474a-bb99-8b816c1cb791"
      },
      "execution_count": 6,
      "outputs": [
        {
          "output_type": "stream",
          "name": "stdout",
          "text": [
            "Square root: [1. 2. 3.]\n",
            "Exponential: [2.71828183e+00 5.45981500e+01 8.10308393e+03]\n",
            "Sine: [ 0.84147098 -0.7568025   0.41211849]\n",
            "Natural Log: [0.         1.38629436 2.19722458]\n",
            "Absolute: [1 2 3]\n",
            "Ceiling: [2. 3. 4.]\n",
            "Floor: [1. 2. 3.]\n",
            "Round: [1. 3. 4.]\n"
          ]
        }
      ]
    },
    {
      "cell_type": "markdown",
      "source": [
        "## 🔸 Comparison and Logical Operations\n",
        "**Definition**: Compare elements using operators (`==`, `!=`, `>`, `<`, `>=`, `<=`) or logical operations (`&`, `|`, `~`) to produce boolean arrays.\n",
        "\n",
        "**Example & Code**:\n"
      ],
      "metadata": {
        "id": "rvWYlwgUeadm"
      }
    },
    {
      "cell_type": "code",
      "source": [
        "a = np.array([1, 2, 3])\n",
        "b = np.array([2, 2, 2])\n",
        "print('a > b:', a > b)          # [False, False, True]\n",
        "print('a == b:', a == b)        # [False, True, False]\n",
        "print('a != b:', a != b)        # [True, False, True]\n",
        "\n",
        "# Logical operations\n",
        "print('Logical AND:', (a > 1) & (a < 3))  # [False, True, False]\n",
        "print('Logical OR:', (a < 2) | (a > 2))   # [True, False, True]\n",
        "print('Logical NOT:', ~(a == 2))          # [True, False, True]\n",
        "#%%\n",
        "# Using np.where for conditional operations\n",
        "arr = np.array([1, 2, 3, 4])\n",
        "print('Where (replace > 2 with 0):', np.where(arr > 2, 0, arr))  # [1, 2, 0, 0]"
      ],
      "metadata": {
        "colab": {
          "base_uri": "https://localhost:8080/"
        },
        "id": "uaflmUbkefLu",
        "outputId": "e87ee374-63fd-4b9b-89dc-eeaa3e30565c"
      },
      "execution_count": 7,
      "outputs": [
        {
          "output_type": "stream",
          "name": "stdout",
          "text": [
            "a > b: [False False  True]\n",
            "a == b: [False  True False]\n",
            "a != b: [ True False  True]\n",
            "Logical AND: [False  True False]\n",
            "Logical OR: [ True False  True]\n",
            "Logical NOT: [ True False  True]\n",
            "Where (replace > 2 with 0): [1 2 0 0]\n"
          ]
        }
      ]
    },
    {
      "cell_type": "markdown",
      "source": [
        "\n",
        "## 🔸 Aggregate Functions\n",
        "**Definition**: Functions like `np.sum`, `np.mean`, `np.min`, `np.max`, `np.std` reduce arrays to a single value or compute statistics along an axis.\n",
        "\n",
        "**Example & Code**:\n"
      ],
      "metadata": {
        "id": "rXTiETrXekVQ"
      }
    },
    {
      "cell_type": "code",
      "source": [
        "data = np.array([1, 2, 3, 4, 5])\n",
        "print('Sum:', np.sum(data))         # 15\n",
        "print('Mean:', np.mean(data))       # 3.0\n",
        "print('Min:', np.min(data))         # 1\n",
        "print('Max:', np.max(data))         # 5\n",
        "print('Standard Deviation:', np.std(data))  # 1.4142135623730951"
      ],
      "metadata": {
        "colab": {
          "base_uri": "https://localhost:8080/"
        },
        "id": "AaBuCcvLeoXV",
        "outputId": "475e72ca-4e30-48a6-d1a0-45658a2e9b49"
      },
      "execution_count": 8,
      "outputs": [
        {
          "output_type": "stream",
          "name": "stdout",
          "text": [
            "Sum: 15\n",
            "Mean: 3.0\n",
            "Min: 1\n",
            "Max: 5\n",
            "Standard Deviation: 1.4142135623730951\n"
          ]
        }
      ]
    },
    {
      "cell_type": "code",
      "source": [
        "# Aggregate functions with axis\n",
        "arr2d = np.array([[1, 2, 3], [4, 5, 6]])\n",
        "print('Sum along axis 0:', np.sum(arr2d, axis=0))  # [5, 7, 9]\n",
        "print('Mean along axis 1:', np.mean(arr2d, axis=1))  # [2., 5.]"
      ],
      "metadata": {
        "colab": {
          "base_uri": "https://localhost:8080/"
        },
        "id": "gAFTndOTetbz",
        "outputId": "9e9b26c4-4934-4e0e-f472-9813b640ccb7"
      },
      "execution_count": 9,
      "outputs": [
        {
          "output_type": "stream",
          "name": "stdout",
          "text": [
            "Sum along axis 0: [5 7 9]\n",
            "Mean along axis 1: [2. 5.]\n"
          ]
        }
      ]
    },
    {
      "cell_type": "markdown",
      "source": [
        "## 🔸 Reshaping Arrays\n",
        "**Definition**: Change an array’s shape using `np.reshape()` or `.reshape()` without altering its data.\n",
        "\n",
        "**Example & Code**:\n"
      ],
      "metadata": {
        "id": "W-sS1C7QezNd"
      }
    },
    {
      "cell_type": "code",
      "source": [
        "arr = np.array([1, 2, 3, 4, 5, 6])\n",
        "reshaped = arr.reshape(2, 3)\n",
        "print('Reshaped to 2x3:\\n', reshaped)\n",
        "\n",
        "# Using -1 to infer dimension\n",
        "reshaped_auto = arr.reshape(3, -1)\n",
        "print('Reshaped with -1:\\n', reshaped_auto)"
      ],
      "metadata": {
        "colab": {
          "base_uri": "https://localhost:8080/"
        },
        "id": "yJ_q0-wze3Dp",
        "outputId": "5e031344-ab83-477e-c6f4-a502cd3cc923"
      },
      "execution_count": 10,
      "outputs": [
        {
          "output_type": "stream",
          "name": "stdout",
          "text": [
            "Reshaped to 2x3:\n",
            " [[1 2 3]\n",
            " [4 5 6]]\n",
            "Reshaped with -1:\n",
            " [[1 2]\n",
            " [3 4]\n",
            " [5 6]]\n"
          ]
        }
      ]
    },
    {
      "cell_type": "markdown",
      "source": [
        "## 🔸 Transpose of Array\n",
        "**Definition**: Swap rows and columns using `.T` or `np.transpose()`.\n",
        "\n",
        "**Example & Code**:\n"
      ],
      "metadata": {
        "id": "lH4z4tT6e8eB"
      }
    },
    {
      "cell_type": "code",
      "source": [
        "mat = np.array([[1, 2, 3], [4, 5, 6]])\n",
        "print('Original:\\n', mat)\n",
        "print('Transpose:\\n', mat.T)\n",
        "\n",
        "# Using np.transpose\n",
        "print('Transpose (np.transpose):\\n', np.transpose(mat))"
      ],
      "metadata": {
        "colab": {
          "base_uri": "https://localhost:8080/"
        },
        "id": "gY_9-PJAfDX9",
        "outputId": "19f71883-b267-427f-aad8-76c90fe85c9a"
      },
      "execution_count": 11,
      "outputs": [
        {
          "output_type": "stream",
          "name": "stdout",
          "text": [
            "Original:\n",
            " [[1 2 3]\n",
            " [4 5 6]]\n",
            "Transpose:\n",
            " [[1 4]\n",
            " [2 5]\n",
            " [3 6]]\n",
            "Transpose (np.transpose):\n",
            " [[1 4]\n",
            " [2 5]\n",
            " [3 6]]\n"
          ]
        }
      ]
    },
    {
      "cell_type": "markdown",
      "source": [
        "\n",
        "## 🔸 Stacking Arrays\n",
        "**Definition**: Combine arrays along a specified axis using `np.vstack()`, `np.hstack()`, or `np.concatenate()`.\n",
        "\n",
        "**Example & Code**:\n"
      ],
      "metadata": {
        "id": "y-h1YpSGfHXG"
      }
    },
    {
      "cell_type": "code",
      "source": [
        "a = np.array([1, 2])\n",
        "b = np.array([3, 4])\n",
        "print('Vertical stack:\\n', np.vstack((a, b)))\n",
        "print('Horizontal stack:\\n', np.hstack((a, b)))\n",
        "\n",
        "# Stacking 2D arrays\n",
        "c = np.array([[1, 2], [3, 4]])\n",
        "d = np.array([[5, 6], [7, 8]])\n",
        "print('Concatenate along axis 0:\\n', np.concatenate((c, d), axis=0))"
      ],
      "metadata": {
        "colab": {
          "base_uri": "https://localhost:8080/"
        },
        "id": "QJ2YwDNwfLfp",
        "outputId": "92628ca0-4f08-4417-ff1f-3518e67ba6d6"
      },
      "execution_count": 13,
      "outputs": [
        {
          "output_type": "stream",
          "name": "stdout",
          "text": [
            "Vertical stack:\n",
            " [[1 2]\n",
            " [3 4]]\n",
            "Horizontal stack:\n",
            " [1 2 3 4]\n",
            "Concatenate along axis 0:\n",
            " [[1 2]\n",
            " [3 4]\n",
            " [5 6]\n",
            " [7 8]]\n"
          ]
        }
      ]
    },
    {
      "cell_type": "markdown",
      "source": [
        "## 🔸 Splitting Arrays\n",
        "**Definition**: Divide an array into multiple sub-arrays using `np.split()`, `np.vsplit()`, or `np.hsplit()`.\n",
        "\n",
        "**Example & Code**:\n"
      ],
      "metadata": {
        "id": "FFycDilTfRN3"
      }
    },
    {
      "cell_type": "code",
      "source": [
        "arr = np.array([10, 20, 30, 40, 50, 60])\n",
        "split_arr = np.split(arr, 3)\n",
        "print('Split into 3 parts:', split_arr)\n",
        "\n",
        "# Splitting 2D array\n",
        "mat = np.array([[1, 2, 3], [4, 5, 6], [7, 8, 9]])\n",
        "print('Vertical split:\\n', np.vsplit(mat, 3))\n",
        "print('Horizontal split:\\n', np.hsplit(mat, 3))"
      ],
      "metadata": {
        "colab": {
          "base_uri": "https://localhost:8080/"
        },
        "id": "JdcjGweIfVSW",
        "outputId": "94b40af3-f487-4447-af3f-62c3e6ecad25"
      },
      "execution_count": 14,
      "outputs": [
        {
          "output_type": "stream",
          "name": "stdout",
          "text": [
            "Split into 3 parts: [array([10, 20]), array([30, 40]), array([50, 60])]\n",
            "Vertical split:\n",
            " [array([[1, 2, 3]]), array([[4, 5, 6]]), array([[7, 8, 9]])]\n",
            "Horizontal split:\n",
            " [array([[1],\n",
            "       [4],\n",
            "       [7]]), array([[2],\n",
            "       [5],\n",
            "       [8]]), array([[3],\n",
            "       [6],\n",
            "       [9]])]\n"
          ]
        }
      ]
    },
    {
      "cell_type": "markdown",
      "source": [
        "## 🔸 Copy vs View\n",
        "**Definition**: A `copy` creates a new, independent array, while a `view` shares the same data with the original array.\n",
        "\n",
        "**Example & Code**:\n"
      ],
      "metadata": {
        "id": "WkAJYgpHfYky"
      }
    },
    {
      "cell_type": "code",
      "source": [
        "original = np.array([1, 2, 3])\n",
        "copy = original.copy()\n",
        "view = original.view()\n",
        "original[0] = 99\n",
        "print('Original after change:', original)  # [99, 2, 3]\n",
        "print('Copy:', copy)                      # [1, 2, 3]\n",
        "print('View:', view)"
      ],
      "metadata": {
        "colab": {
          "base_uri": "https://localhost:8080/"
        },
        "id": "ThYggsJ_ff1q",
        "outputId": "4ea14f8f-8940-4f0e-a908-3417c2a18139"
      },
      "execution_count": 15,
      "outputs": [
        {
          "output_type": "stream",
          "name": "stdout",
          "text": [
            "Original after change: [99  2  3]\n",
            "Copy: [1 2 3]\n",
            "View: [99  2  3]\n"
          ]
        }
      ]
    },
    {
      "cell_type": "markdown",
      "source": [
        "\n",
        "## 🔸 Broadcasting\n",
        "**Definition**: Allows operations between arrays of different shapes by automatically expanding the smaller array’s dimensions.\n",
        "\n",
        "**Example & Code**:\n"
      ],
      "metadata": {
        "id": "j0BamPPTfjVE"
      }
    },
    {
      "cell_type": "code",
      "source": [
        "# Broadcasting with a scalar\n",
        "a = np.array([1, 2, 3])\n",
        "b = 2\n",
        "print('a * 2:\\n', a * b)  # [2, 4, 6]\n",
        "\n",
        "# Broadcasting with arrays\n",
        "arr2d = np.array([[1, 2, 3], [4, 5, 6]])\n",
        "vec = np.array([10, 20, 30])\n",
        "print('2D + 1D:\\n', arr2d + vec)"
      ],
      "metadata": {
        "colab": {
          "base_uri": "https://localhost:8080/"
        },
        "id": "vEZpzOkKfm_Y",
        "outputId": "be435410-778a-47cd-f39e-7427b2947020"
      },
      "execution_count": 16,
      "outputs": [
        {
          "output_type": "stream",
          "name": "stdout",
          "text": [
            "a * 2:\n",
            " [2 4 6]\n",
            "2D + 1D:\n",
            " [[11 22 33]\n",
            " [14 25 36]]\n"
          ]
        }
      ]
    },
    {
      "cell_type": "markdown",
      "source": [
        "## 🔸 Matrix Operations\n",
        "**Definition**: Perform linear algebra operations like dot product, matrix multiplication, and determinant.\n",
        "\n",
        "**Example & Code**:\n"
      ],
      "metadata": {
        "id": "mzal0aAEfrw7"
      }
    },
    {
      "cell_type": "code",
      "source": [
        "# Dot product\n",
        "a = np.array([1, 2])\n",
        "b = np.array([3, 4])\n",
        "print('Dot product:', np.dot(a, b))  # 1*3 + 2*4 = 11\n",
        "\n",
        "# Matrix multiplication\n",
        "A = np.array([[1, 2], [3, 4]])\n",
        "B = np.array([[5, 6], [7, 8]])\n",
        "print('Matrix multiplication:\\n', np.matmul(A, B))\n",
        "\n",
        "# Determinant\n",
        "print('Determinant of A:', np.linalg.det(A))"
      ],
      "metadata": {
        "colab": {
          "base_uri": "https://localhost:8080/"
        },
        "id": "LPNonaksfvVP",
        "outputId": "768f4ac7-8717-4809-d4ad-74489054266f"
      },
      "execution_count": 17,
      "outputs": [
        {
          "output_type": "stream",
          "name": "stdout",
          "text": [
            "Dot product: 11\n",
            "Matrix multiplication:\n",
            " [[19 22]\n",
            " [43 50]]\n",
            "Determinant of A: -2.0000000000000004\n"
          ]
        }
      ]
    }
  ]
}
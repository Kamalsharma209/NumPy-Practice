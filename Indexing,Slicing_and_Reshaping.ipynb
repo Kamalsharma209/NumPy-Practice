{
  "nbformat": 4,
  "nbformat_minor": 0,
  "metadata": {
    "colab": {
      "provenance": [],
      "authorship_tag": "ABX9TyMtnlVmCfM5dVTRVkpYRlTG",
      "include_colab_link": true
    },
    "kernelspec": {
      "name": "python3",
      "display_name": "Python 3"
    },
    "language_info": {
      "name": "python"
    }
  },
  "cells": [
    {
      "cell_type": "markdown",
      "metadata": {
        "id": "view-in-github",
        "colab_type": "text"
      },
      "source": [
        "<a href=\"https://colab.research.google.com/github/Kamalsharma209/NumPy-Practice/blob/main/Indexing%2CSlicing_and_Reshaping.ipynb\" target=\"_parent\"><img src=\"https://colab.research.google.com/assets/colab-badge.svg\" alt=\"Open In Colab\"/></a>"
      ]
    },
    {
      "cell_type": "markdown",
      "source": [
        "**Indexing , Slicing and Reshaping**"
      ],
      "metadata": {
        "id": "d4e808eMhxZn"
      }
    },
    {
      "cell_type": "markdown",
      "source": [
        "**1. Indexing and slicing**"
      ],
      "metadata": {
        "id": "S2X3OYD5iKDI"
      }
    },
    {
      "cell_type": "code",
      "source": [
        "import numpy as np\n",
        "arr = np.array([1,2,3,4,5,6,7,8,9])\n",
        "arr = arr[2:7]\n",
        "print(arr)"
      ],
      "metadata": {
        "colab": {
          "base_uri": "https://localhost:8080/"
        },
        "id": "9gz7GfFWiIgg",
        "outputId": "90ce0245-b2ce-4671-b565-d5b14612a8ed"
      },
      "execution_count": 2,
      "outputs": [
        {
          "output_type": "stream",
          "name": "stdout",
          "text": [
            "[3 4 5 6 7]\n"
          ]
        }
      ]
    },
    {
      "cell_type": "markdown",
      "source": [
        "**2. np.shape()**"
      ],
      "metadata": {
        "id": "ADsXynGnjbaM"
      }
    },
    {
      "cell_type": "code",
      "source": [
        "arr = np.array([[1,2,3,4,5,6,7,8,9],[27,223,])\n",
        "print(arr.shape)"
      ],
      "metadata": {
        "colab": {
          "base_uri": "https://localhost:8080/"
        },
        "id": "iUJbbRqojRr5",
        "outputId": "947e9020-29b0-4160-af89-be5b567a73a5"
      },
      "execution_count": 7,
      "outputs": [
        {
          "output_type": "stream",
          "name": "stdout",
          "text": [
            "(9,)\n"
          ]
        }
      ]
    },
    {
      "cell_type": "markdown",
      "source": [
        "**3. np.flatten()**"
      ],
      "metadata": {
        "id": "8nvJK7rjkZrG"
      }
    },
    {
      "cell_type": "code",
      "source": [
        "arr = ([[1,23,3,4]])\n",
        "arr= np.array(arr)\n",
        "arr = arr.flatten() # Call flatten() on the array object\n",
        "print(arr)"
      ],
      "metadata": {
        "colab": {
          "base_uri": "https://localhost:8080/"
        },
        "id": "oc0mrQQnlYxp",
        "outputId": "34427a07-cd16-49d8-b39c-19a232873c1c"
      },
      "execution_count": 12,
      "outputs": [
        {
          "output_type": "stream",
          "name": "stdout",
          "text": [
            "[ 1 23  3  4]\n"
          ]
        }
      ]
    },
    {
      "cell_type": "markdown",
      "source": [
        "**4. np.transpose()**"
      ],
      "metadata": {
        "id": "LwJ-5hrPmGEM"
      }
    },
    {
      "cell_type": "code",
      "source": [
        "arr = np.array([[1,2,3,4,5,6,7,8,9]])\n",
        "arr = np.transpose(arr)\n",
        "print(arr)\n"
      ],
      "metadata": {
        "colab": {
          "base_uri": "https://localhost:8080/"
        },
        "id": "r_kYvuavmNKQ",
        "outputId": "3e5d7bd7-1eae-4a44-ed74-566aa0be8eaf"
      },
      "execution_count": 13,
      "outputs": [
        {
          "output_type": "stream",
          "name": "stdout",
          "text": [
            "[[1]\n",
            " [2]\n",
            " [3]\n",
            " [4]\n",
            " [5]\n",
            " [6]\n",
            " [7]\n",
            " [8]\n",
            " [9]]\n"
          ]
        }
      ]
    },
    {
      "cell_type": "markdown",
      "source": [
        "**5. np.ravel()**"
      ],
      "metadata": {
        "id": "-ZEhEy1hmSXx"
      }
    },
    {
      "cell_type": "code",
      "source": [
        "arr = np.array([[1,2,3,4,5,6,7,8,9]])\n",
        "arr = arr.ravel()\n",
        "print(arr)\n",
        "#"
      ],
      "metadata": {
        "colab": {
          "base_uri": "https://localhost:8080/"
        },
        "id": "gCoA_la1mc7Q",
        "outputId": "43a5bc25-c41d-43d5-96a1-a799af183428"
      },
      "execution_count": 14,
      "outputs": [
        {
          "output_type": "stream",
          "name": "stdout",
          "text": [
            "[1 2 3 4 5 6 7 8 9]\n"
          ]
        }
      ]
    }
  ]
}
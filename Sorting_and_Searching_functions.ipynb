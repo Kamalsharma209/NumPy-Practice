{
  "nbformat": 4,
  "nbformat_minor": 0,
  "metadata": {
    "colab": {
      "provenance": [],
      "authorship_tag": "ABX9TyMt30mKVRlQLXjVAu+Pxz1L",
      "include_colab_link": true
    },
    "kernelspec": {
      "name": "python3",
      "display_name": "Python 3"
    },
    "language_info": {
      "name": "python"
    }
  },
  "cells": [
    {
      "cell_type": "markdown",
      "metadata": {
        "id": "view-in-github",
        "colab_type": "text"
      },
      "source": [
        "<a href=\"https://colab.research.google.com/github/Kamalsharma209/NumPy-Practice/blob/main/Sorting_and_Searching_functions.ipynb\" target=\"_parent\"><img src=\"https://colab.research.google.com/assets/colab-badge.svg\" alt=\"Open In Colab\"/></a>"
      ]
    },
    {
      "cell_type": "markdown",
      "source": [
        "**Sorting and Searching**"
      ],
      "metadata": {
        "id": "tL8ZgXQsY-AS"
      }
    },
    {
      "cell_type": "markdown",
      "source": [
        "**1. np.sort()**"
      ],
      "metadata": {
        "id": "c-Nxt0QqZEh8"
      }
    },
    {
      "cell_type": "code",
      "source": [
        "import numpy as np\n",
        "arr = ([1,24,56,7,89,34,56,24])\n",
        "arr1 = np.sort(arr)\n",
        "print(arr1)"
      ],
      "metadata": {
        "colab": {
          "base_uri": "https://localhost:8080/"
        },
        "id": "VJktU8K1ZJZt",
        "outputId": "6756a3cd-764a-469e-ca9f-f3fed3667030"
      },
      "execution_count": 6,
      "outputs": [
        {
          "output_type": "stream",
          "name": "stdout",
          "text": [
            "[ 1  7 24 24 34 56 56 89]\n"
          ]
        }
      ]
    },
    {
      "cell_type": "markdown",
      "source": [
        "**2. np.argsort()**"
      ],
      "metadata": {
        "id": "q-UvdmsqZgaA"
      }
    },
    {
      "cell_type": "code",
      "source": [
        "arr2 = np.argsort(arr)\n",
        "print(arr2)\n"
      ],
      "metadata": {
        "colab": {
          "base_uri": "https://localhost:8080/"
        },
        "id": "mHClMCdUZzw6",
        "outputId": "092635b6-99b8-4093-918e-f4048a1cfd80"
      },
      "execution_count": 8,
      "outputs": [
        {
          "output_type": "stream",
          "name": "stdout",
          "text": [
            "[0 2 5 1 7 4 6 3]\n"
          ]
        }
      ]
    },
    {
      "cell_type": "markdown",
      "source": [
        "**3. np.argmax()**"
      ],
      "metadata": {
        "id": "Uhyp4j7gaKfK"
      }
    },
    {
      "cell_type": "code",
      "source": [
        "arr = ([1,24,56,7,89,34,56,24])\n",
        "arr3 = np.argmax(arr)\n",
        "print(arr3)"
      ],
      "metadata": {
        "colab": {
          "base_uri": "https://localhost:8080/"
        },
        "id": "p88LROiOaOcV",
        "outputId": "5461210b-ea87-413c-9a81-6b24ae2a8784"
      },
      "execution_count": 12,
      "outputs": [
        {
          "output_type": "stream",
          "name": "stdout",
          "text": [
            "4\n"
          ]
        }
      ]
    },
    {
      "cell_type": "markdown",
      "source": [
        "**4. np.argmin()**"
      ],
      "metadata": {
        "id": "xRpr2Awoa0I2"
      }
    },
    {
      "cell_type": "code",
      "source": [
        "arr4 = np.argmin(arr)\n",
        "print(arr4)"
      ],
      "metadata": {
        "colab": {
          "base_uri": "https://localhost:8080/"
        },
        "id": "-xENvcD-a7MN",
        "outputId": "23bdfafb-7a1b-457d-bbf3-ebcfea6ce03b"
      },
      "execution_count": 13,
      "outputs": [
        {
          "output_type": "stream",
          "name": "stdout",
          "text": [
            "0\n"
          ]
        }
      ]
    },
    {
      "cell_type": "markdown",
      "source": [
        "**5. np.searchsort()**"
      ],
      "metadata": {
        "id": "ThskwrecbEzC"
      }
    },
    {
      "cell_type": "code",
      "source": [
        "arr = np.array([1,24,56,7,89,34,56,24])\n",
        "arr = np.sort(arr)\n",
        "arr5 = np.searchsorted(arr,24)\n",
        "print(arr5)"
      ],
      "metadata": {
        "colab": {
          "base_uri": "https://localhost:8080/"
        },
        "id": "MPBnkwIFbJ3Y",
        "outputId": "0a8620fc-ef93-434a-9b25-df8ef0d2c51a"
      },
      "execution_count": 16,
      "outputs": [
        {
          "output_type": "stream",
          "name": "stdout",
          "text": [
            "2\n"
          ]
        }
      ]
    }
  ]
}
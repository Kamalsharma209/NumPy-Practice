{
  "nbformat": 4,
  "nbformat_minor": 0,
  "metadata": {
    "colab": {
      "provenance": [],
      "authorship_tag": "ABX9TyPKeTiecJkpcfF+aMR7Mxs9",
      "include_colab_link": true
    },
    "kernelspec": {
      "name": "python3",
      "display_name": "Python 3"
    },
    "language_info": {
      "name": "python"
    }
  },
  "cells": [
    {
      "cell_type": "markdown",
      "metadata": {
        "id": "view-in-github",
        "colab_type": "text"
      },
      "source": [
        "<a href=\"https://colab.research.google.com/github/Kamalsharma209/NumPy-Practice/blob/main/Linear_Algebra(Matrix_Operations).ipynb\" target=\"_parent\"><img src=\"https://colab.research.google.com/assets/colab-badge.svg\" alt=\"Open In Colab\"/></a>"
      ]
    },
    {
      "cell_type": "markdown",
      "source": [
        "**Linear Algebra**"
      ],
      "metadata": {
        "id": "n1vCG_08QLZE"
      }
    },
    {
      "cell_type": "markdown",
      "source": [
        "**1. Create a Matrix**"
      ],
      "metadata": {
        "id": "pRwySt4qQQLj"
      }
    },
    {
      "cell_type": "code",
      "source": [
        "import numpy as np\n",
        "m = np.array([[5,6],[7,8]])\n",
        "print(m)"
      ],
      "metadata": {
        "colab": {
          "base_uri": "https://localhost:8080/"
        },
        "id": "R77sDT4EQYLO",
        "outputId": "3379ed39-d6db-4aaf-8edd-715f510ef957"
      },
      "execution_count": 2,
      "outputs": [
        {
          "output_type": "stream",
          "name": "stdout",
          "text": [
            "[[5 6]\n",
            " [7 8]]\n"
          ]
        }
      ]
    },
    {
      "cell_type": "markdown",
      "source": [
        "**2. Transpose (np.transpose)**"
      ],
      "metadata": {
        "id": "J0TtvACdQ32T"
      }
    },
    {
      "cell_type": "code",
      "source": [
        "arr = np.transpose(m)\n",
        "print(arr)"
      ],
      "metadata": {
        "colab": {
          "base_uri": "https://localhost:8080/"
        },
        "id": "fVMX7h31RGbn",
        "outputId": "0e029386-d46a-435b-c8e3-2eaa54d6601f"
      },
      "execution_count": 3,
      "outputs": [
        {
          "output_type": "stream",
          "name": "stdout",
          "text": [
            "[[5 7]\n",
            " [6 8]]\n"
          ]
        }
      ]
    },
    {
      "cell_type": "markdown",
      "source": [
        "**3. Identify Matrix (np.eye(3).astype(int)**"
      ],
      "metadata": {
        "id": "t0j6G9eyRMa1"
      }
    },
    {
      "cell_type": "code",
      "source": [
        "arr = np.eye(5).astype(int)\n",
        "print(arr)"
      ],
      "metadata": {
        "colab": {
          "base_uri": "https://localhost:8080/"
        },
        "id": "Gn9U3pCyRXYZ",
        "outputId": "9e30acf8-e238-4fb9-c136-a267a83dee4d"
      },
      "execution_count": 7,
      "outputs": [
        {
          "output_type": "stream",
          "name": "stdout",
          "text": [
            "[[1 0 0 0 0]\n",
            " [0 1 0 0 0]\n",
            " [0 0 1 0 0]\n",
            " [0 0 0 1 0]\n",
            " [0 0 0 0 1]]\n"
          ]
        }
      ]
    },
    {
      "cell_type": "markdown",
      "source": [
        "**4. Diagonal Element (np.diag)**"
      ],
      "metadata": {
        "id": "x4JWhyRWRhfV"
      }
    },
    {
      "cell_type": "code",
      "source": [
        "arr = np.diag(m)\n",
        "print(arr)"
      ],
      "metadata": {
        "colab": {
          "base_uri": "https://localhost:8080/"
        },
        "id": "XoDrI64QRrL-",
        "outputId": "664a22af-40fe-4d9f-df41-a7bfe5f78036"
      },
      "execution_count": 11,
      "outputs": [
        {
          "output_type": "stream",
          "name": "stdout",
          "text": [
            "[5 8]\n"
          ]
        }
      ]
    },
    {
      "cell_type": "markdown",
      "source": [
        "**5. Diagonal Matrix Creation (np.diag)**"
      ],
      "metadata": {
        "id": "WOBhUIS2R4-l"
      }
    },
    {
      "cell_type": "code",
      "source": [
        "arr = np.diag([10,20,30])\n",
        "print(arr)"
      ],
      "metadata": {
        "colab": {
          "base_uri": "https://localhost:8080/"
        },
        "id": "jA8PJijpStLg",
        "outputId": "84a1dad7-16a7-4962-eecc-52768bc19204"
      },
      "execution_count": 12,
      "outputs": [
        {
          "output_type": "stream",
          "name": "stdout",
          "text": [
            "[[10  0  0]\n",
            " [ 0 20  0]\n",
            " [ 0  0 30]]\n"
          ]
        }
      ]
    },
    {
      "cell_type": "markdown",
      "source": [
        "**6. Trace of Matrix**"
      ],
      "metadata": {
        "id": "JHaMfbbmTVr6"
      }
    },
    {
      "cell_type": "code",
      "source": [
        "arr = np.trace(m)\n",
        "print(arr)"
      ],
      "metadata": {
        "colab": {
          "base_uri": "https://localhost:8080/"
        },
        "id": "RFfPAxt9TaYt",
        "outputId": "f78d93a8-ded8-47bc-87e9-d9e1ed4135a2"
      },
      "execution_count": 13,
      "outputs": [
        {
          "output_type": "stream",
          "name": "stdout",
          "text": [
            "13\n"
          ]
        }
      ]
    },
    {
      "cell_type": "markdown",
      "source": [
        "**7. Addition and Substraction**"
      ],
      "metadata": {
        "id": "w8gTRib9Tk7_"
      }
    },
    {
      "cell_type": "code",
      "source": [
        "B = np.array([[5,6],[7,8]])\n",
        "print(m+B)\n",
        "print(m-B)"
      ],
      "metadata": {
        "colab": {
          "base_uri": "https://localhost:8080/"
        },
        "id": "DwieX88zT2Mw",
        "outputId": "22a480f8-d4b7-4587-a7b6-dac0b29ba6e4"
      },
      "execution_count": 15,
      "outputs": [
        {
          "output_type": "stream",
          "name": "stdout",
          "text": [
            "[[10 12]\n",
            " [14 16]]\n",
            "[[0 0]\n",
            " [0 0]]\n"
          ]
        }
      ]
    },
    {
      "cell_type": "markdown",
      "source": [
        "**8. Element-Wise Multiplication**"
      ],
      "metadata": {
        "id": "s06Lwjf8UF6X"
      }
    },
    {
      "cell_type": "code",
      "source": [
        "print(m*B)"
      ],
      "metadata": {
        "colab": {
          "base_uri": "https://localhost:8080/"
        },
        "id": "zmejDZBbULWf",
        "outputId": "dedf11b8-88ba-4bcc-dcf0-ce373d861afc"
      },
      "execution_count": 16,
      "outputs": [
        {
          "output_type": "stream",
          "name": "stdout",
          "text": [
            "[[25 36]\n",
            " [49 64]]\n"
          ]
        }
      ]
    },
    {
      "cell_type": "markdown",
      "source": [
        "**9. Dot Product(np.matmul(A,B))**"
      ],
      "metadata": {
        "id": "qGRIjWyWUQjf"
      }
    },
    {
      "cell_type": "code",
      "source": [
        "arr = np.matmul(m,B)\n",
        "print(arr)"
      ],
      "metadata": {
        "colab": {
          "base_uri": "https://localhost:8080/"
        },
        "id": "nPi0uY_uUbmt",
        "outputId": "3fec57fb-a5f8-4121-db38-efece5358943"
      },
      "execution_count": 17,
      "outputs": [
        {
          "output_type": "stream",
          "name": "stdout",
          "text": [
            "[[ 67  78]\n",
            " [ 91 106]]\n"
          ]
        }
      ]
    },
    {
      "cell_type": "markdown",
      "source": [
        "**10. Determinant of Matrix(np.linalg.det(arr))**"
      ],
      "metadata": {
        "id": "Z7QUjzGAUiZ2"
      }
    },
    {
      "cell_type": "code",
      "source": [
        "arr = np.linalg.det(m)\n",
        "print(arr)"
      ],
      "metadata": {
        "colab": {
          "base_uri": "https://localhost:8080/"
        },
        "id": "pVXERGmFUq29",
        "outputId": "856e66ee-15a7-44a8-c500-2605207a06cb"
      },
      "execution_count": 18,
      "outputs": [
        {
          "output_type": "stream",
          "name": "stdout",
          "text": [
            "-2.000000000000005\n"
          ]
        }
      ]
    },
    {
      "cell_type": "markdown",
      "source": [
        "**11. Inverse (np.linalg.inv())**"
      ],
      "metadata": {
        "id": "dcC26IkSUurt"
      }
    },
    {
      "cell_type": "code",
      "source": [
        "arr = np.linalg.inv(m)\n",
        "print(arr)"
      ],
      "metadata": {
        "colab": {
          "base_uri": "https://localhost:8080/"
        },
        "id": "uJh6FsUHU4qJ",
        "outputId": "ec653c2e-2be2-4529-c34f-ccb6ffc50a60"
      },
      "execution_count": 19,
      "outputs": [
        {
          "output_type": "stream",
          "name": "stdout",
          "text": [
            "[[-4.   3. ]\n",
            " [ 3.5 -2.5]]\n"
          ]
        }
      ]
    },
    {
      "cell_type": "markdown",
      "source": [
        "**12. Rank (np.linalg.matrix_rank())**"
      ],
      "metadata": {
        "id": "8kqAmiDlU7W0"
      }
    },
    {
      "cell_type": "code",
      "source": [
        "arr = np.linalg.matrix_rank(m)\n",
        "print(arr)"
      ],
      "metadata": {
        "colab": {
          "base_uri": "https://localhost:8080/"
        },
        "id": "RVUCQSVhVDOT",
        "outputId": "8e51ea34-38db-4b5f-d101-df0d8d2663fb"
      },
      "execution_count": 20,
      "outputs": [
        {
          "output_type": "stream",
          "name": "stdout",
          "text": [
            "2\n"
          ]
        }
      ]
    },
    {
      "cell_type": "markdown",
      "source": [
        "**13. Solving Linear Equation**"
      ],
      "metadata": {
        "id": "nX1m4lbpVMRu"
      }
    },
    {
      "cell_type": "code",
      "source": [
        "arr = np.linalg.solve(m,B)\n",
        "print(arr)"
      ],
      "metadata": {
        "colab": {
          "base_uri": "https://localhost:8080/"
        },
        "id": "x3EgUyg-VSiw",
        "outputId": "b59ad748-bcc3-439a-81e5-1a7d246a843e"
      },
      "execution_count": 21,
      "outputs": [
        {
          "output_type": "stream",
          "name": "stdout",
          "text": [
            "[[1.00000000e+00 0.00000000e+00]\n",
            " [3.10862447e-15 1.00000000e+00]]\n"
          ]
        }
      ]
    },
    {
      "cell_type": "markdown",
      "source": [
        "**14. Eigen_Values and Eigen_Value**"
      ],
      "metadata": {
        "id": "hwkZjSY_Veug"
      }
    },
    {
      "cell_type": "code",
      "source": [
        "arr = np.linalg.eig(m)\n",
        "print(arr)"
      ],
      "metadata": {
        "colab": {
          "base_uri": "https://localhost:8080/"
        },
        "id": "D6Tfx4uAV_f3",
        "outputId": "43e5de06-bd9d-40af-d019-ed36202cf064"
      },
      "execution_count": 22,
      "outputs": [
        {
          "output_type": "stream",
          "name": "stdout",
          "text": [
            "EigResult(eigenvalues=array([-0.15206735, 13.15206735]), eigenvectors=array([[-0.75868086, -0.59276441],\n",
            "       [ 0.65146248, -0.80537591]]))\n"
          ]
        }
      ]
    },
    {
      "cell_type": "markdown",
      "source": [
        "**15. Check if Matrix is Orthogonal**"
      ],
      "metadata": {
        "id": "RCcMdxcrWIE7"
      }
    },
    {
      "cell_type": "code",
      "source": [
        "q = np.array([[1,0],[0,-1]])\n",
        "print(np.dot(q,q.T))"
      ],
      "metadata": {
        "colab": {
          "base_uri": "https://localhost:8080/"
        },
        "id": "E_GGtfiBWSGc",
        "outputId": "a38ccc6a-1b29-4891-8565-8d157427664a"
      },
      "execution_count": 23,
      "outputs": [
        {
          "output_type": "stream",
          "name": "stdout",
          "text": [
            "[[1 0]\n",
            " [0 1]]\n"
          ]
        }
      ]
    },
    {
      "cell_type": "markdown",
      "source": [
        "**16. Check Positive Definitess**"
      ],
      "metadata": {
        "id": "tvZhr6YaWWLZ"
      }
    },
    {
      "cell_type": "code",
      "source": [
        "def is_Positive_Definite(x):\n",
        "  return np.all(np.linalg.eigvals(x) > 0)\n",
        "print(is_Positive_Definite(m))"
      ],
      "metadata": {
        "colab": {
          "base_uri": "https://localhost:8080/"
        },
        "id": "gSevFmnZWooA",
        "outputId": "21ca153a-178a-478d-d081-d9705f12274c"
      },
      "execution_count": 27,
      "outputs": [
        {
          "output_type": "stream",
          "name": "stdout",
          "text": [
            "False\n"
          ]
        }
      ]
    }
  ]
}
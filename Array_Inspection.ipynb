{
  "nbformat": 4,
  "nbformat_minor": 0,
  "metadata": {
    "colab": {
      "provenance": [],
      "authorship_tag": "ABX9TyNWb2icDmbtsFxodiq8tBWk",
      "include_colab_link": true
    },
    "kernelspec": {
      "name": "python3",
      "display_name": "Python 3"
    },
    "language_info": {
      "name": "python"
    }
  },
  "cells": [
    {
      "cell_type": "markdown",
      "metadata": {
        "id": "view-in-github",
        "colab_type": "text"
      },
      "source": [
        "<a href=\"https://colab.research.google.com/github/Kamalsharma209/NumPy-Practice/blob/main/Array_Inspection.ipynb\" target=\"_parent\"><img src=\"https://colab.research.google.com/assets/colab-badge.svg\" alt=\"Open In Colab\"/></a>"
      ]
    },
    {
      "cell_type": "markdown",
      "source": [
        "**Array Inspection**"
      ],
      "metadata": {
        "id": "4La3P7NIfJ_J"
      }
    },
    {
      "cell_type": "markdown",
      "source": [
        "**1. np.shape**"
      ],
      "metadata": {
        "id": "BUPPceuufWhN"
      }
    },
    {
      "cell_type": "code",
      "source": [
        "import numpy as np\n",
        "a = np.array([[1,2,3],[4,5,6]])\n",
        "print(a.shape)"
      ],
      "metadata": {
        "colab": {
          "base_uri": "https://localhost:8080/"
        },
        "id": "MdOI-oB8fbie",
        "outputId": "a83dd949-add1-44b7-fa8d-31c8f5552e87"
      },
      "execution_count": 1,
      "outputs": [
        {
          "output_type": "stream",
          "name": "stdout",
          "text": [
            "(2, 3)\n"
          ]
        }
      ]
    },
    {
      "cell_type": "markdown",
      "source": [
        "**2. np.ndim**"
      ],
      "metadata": {
        "id": "9feMqjWvftIj"
      }
    },
    {
      "cell_type": "code",
      "source": [
        "arr = np.ndim(a)\n",
        "print(arr)"
      ],
      "metadata": {
        "colab": {
          "base_uri": "https://localhost:8080/"
        },
        "id": "bRXavENjfx7Q",
        "outputId": "24bf330b-9e2b-422f-82d9-2b72b8bc6b9c"
      },
      "execution_count": 2,
      "outputs": [
        {
          "output_type": "stream",
          "name": "stdout",
          "text": [
            "2\n"
          ]
        }
      ]
    },
    {
      "cell_type": "markdown",
      "source": [
        "**3. np.size**"
      ],
      "metadata": {
        "id": "6mC-yixVgTbT"
      }
    },
    {
      "cell_type": "code",
      "source": [
        "arr = np.size(a)\n",
        "print(arr)"
      ],
      "metadata": {
        "colab": {
          "base_uri": "https://localhost:8080/"
        },
        "id": "RDq0hzANgYzg",
        "outputId": "68dfc309-f81e-451f-e67e-42445828b87f"
      },
      "execution_count": 3,
      "outputs": [
        {
          "output_type": "stream",
          "name": "stdout",
          "text": [
            "6\n"
          ]
        }
      ]
    },
    {
      "cell_type": "markdown",
      "source": [
        "**4. np.type()**"
      ],
      "metadata": {
        "id": "n8nCheTrggx5"
      }
    },
    {
      "cell_type": "code",
      "source": [
        "arr = a.dtype\n",
        "print(arr)"
      ],
      "metadata": {
        "colab": {
          "base_uri": "https://localhost:8080/"
        },
        "id": "ciUw25D7gtlv",
        "outputId": "b03e997d-4b8d-4bf9-aac2-02715112b771"
      },
      "execution_count": 5,
      "outputs": [
        {
          "output_type": "stream",
          "name": "stdout",
          "text": [
            "int64\n"
          ]
        }
      ]
    },
    {
      "cell_type": "markdown",
      "source": [],
      "metadata": {
        "id": "imwP59asg6Sy"
      }
    }
  ]
}
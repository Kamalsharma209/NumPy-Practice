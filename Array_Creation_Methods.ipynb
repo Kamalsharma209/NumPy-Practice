{
  "nbformat": 4,
  "nbformat_minor": 0,
  "metadata": {
    "colab": {
      "provenance": [],
      "authorship_tag": "ABX9TyPx/92TCE6z2WB02m6UzBVL",
      "include_colab_link": true
    },
    "kernelspec": {
      "name": "python3",
      "display_name": "Python 3"
    },
    "language_info": {
      "name": "python"
    }
  },
  "cells": [
    {
      "cell_type": "markdown",
      "metadata": {
        "id": "view-in-github",
        "colab_type": "text"
      },
      "source": [
        "<a href=\"https://colab.research.google.com/github/Kamalsharma209/NumPy-Practice/blob/main/Array_Creation_Methods.ipynb\" target=\"_parent\"><img src=\"https://colab.research.google.com/assets/colab-badge.svg\" alt=\"Open In Colab\"/></a>"
      ]
    },
    {
      "cell_type": "markdown",
      "source": [
        "**Array Creation**"
      ],
      "metadata": {
        "id": "ML3YEsx2bhbe"
      }
    },
    {
      "cell_type": "markdown",
      "source": [
        "**1. np.array()**"
      ],
      "metadata": {
        "id": "fzoBOdZTbuob"
      }
    },
    {
      "cell_type": "code",
      "source": [
        "import numpy as np\n",
        "arr = ([1,2,3,4])\n",
        "a = np.array(arr)\n",
        "print(a)"
      ],
      "metadata": {
        "colab": {
          "base_uri": "https://localhost:8080/"
        },
        "id": "pzEiVHD7bsE2",
        "outputId": "d9bd24c1-b670-40fe-ea06-c8e54c90eed2"
      },
      "execution_count": 2,
      "outputs": [
        {
          "output_type": "stream",
          "name": "stdout",
          "text": [
            "[1 2 3 4]\n"
          ]
        }
      ]
    },
    {
      "cell_type": "markdown",
      "source": [
        "**2. np.zeros()**"
      ],
      "metadata": {
        "id": "V0MufxI3cFhe"
      }
    },
    {
      "cell_type": "code",
      "source": [
        "arr=np.zeros(5)\n",
        "print(arr)"
      ],
      "metadata": {
        "colab": {
          "base_uri": "https://localhost:8080/"
        },
        "id": "tubbkwD9cNS6",
        "outputId": "94a68288-c807-4797-d15f-bc99b3302a82"
      },
      "execution_count": 3,
      "outputs": [
        {
          "output_type": "stream",
          "name": "stdout",
          "text": [
            "[0. 0. 0. 0. 0.]\n"
          ]
        }
      ]
    },
    {
      "cell_type": "markdown",
      "source": [
        "**3. np.ones()**"
      ],
      "metadata": {
        "id": "9wnwNZ6UcRa_"
      }
    },
    {
      "cell_type": "code",
      "source": [
        "arr = np.ones(5)\n",
        "print(arr)"
      ],
      "metadata": {
        "colab": {
          "base_uri": "https://localhost:8080/"
        },
        "id": "APEaSWYrciVZ",
        "outputId": "ac803c33-5a2f-413f-a139-ba535c543f8e"
      },
      "execution_count": 6,
      "outputs": [
        {
          "output_type": "stream",
          "name": "stdout",
          "text": [
            "[1. 1. 1. 1. 1.]\n"
          ]
        }
      ]
    },
    {
      "cell_type": "markdown",
      "source": [
        "**4. np.full()**"
      ],
      "metadata": {
        "id": "pzxQNsiZcxoI"
      }
    },
    {
      "cell_type": "code",
      "source": [
        "arr = np.full(5,10)\n",
        "print(arr)"
      ],
      "metadata": {
        "colab": {
          "base_uri": "https://localhost:8080/"
        },
        "id": "G4eMm0OCc1VW",
        "outputId": "6cb1809a-9e93-47ec-d2a3-969eddb69840"
      },
      "execution_count": 7,
      "outputs": [
        {
          "output_type": "stream",
          "name": "stdout",
          "text": [
            "[10 10 10 10 10]\n"
          ]
        }
      ]
    },
    {
      "cell_type": "markdown",
      "source": [
        "**5. np.arrange**"
      ],
      "metadata": {
        "id": "0TEf5u-9c5Yh"
      }
    },
    {
      "cell_type": "code",
      "source": [
        "arr = np.arange(5)\n",
        "print(arr)"
      ],
      "metadata": {
        "colab": {
          "base_uri": "https://localhost:8080/"
        },
        "id": "EpWQnCvCc9wx",
        "outputId": "16bef402-6a11-45aa-d6e9-74669d1c2ae1"
      },
      "execution_count": 8,
      "outputs": [
        {
          "output_type": "stream",
          "name": "stdout",
          "text": [
            "[0 1 2 3 4]\n"
          ]
        }
      ]
    },
    {
      "cell_type": "markdown",
      "source": [
        "**6. np.linespace()**"
      ],
      "metadata": {
        "id": "EUjdQT2cdCxJ"
      }
    },
    {
      "cell_type": "code",
      "source": [
        "arr = np.linspace(0,10,5)\n",
        "print(arr)"
      ],
      "metadata": {
        "colab": {
          "base_uri": "https://localhost:8080/"
        },
        "id": "6T6qzFDTdX2x",
        "outputId": "28c8a54c-d7ee-4f21-d062-808b31f23043"
      },
      "execution_count": 10,
      "outputs": [
        {
          "output_type": "stream",
          "name": "stdout",
          "text": [
            "[ 0.   2.5  5.   7.5 10. ]\n"
          ]
        }
      ]
    },
    {
      "cell_type": "markdown",
      "source": [
        "**7. np.eye**"
      ],
      "metadata": {
        "id": "3jMDANNzdjOk"
      }
    },
    {
      "cell_type": "code",
      "source": [
        "arr = np.eye(3,3)\n",
        "print(arr)"
      ],
      "metadata": {
        "colab": {
          "base_uri": "https://localhost:8080/"
        },
        "id": "cqOeHs_WdsoQ",
        "outputId": "77073bd4-d49a-4a3e-d4cb-784071d81d8b"
      },
      "execution_count": 12,
      "outputs": [
        {
          "output_type": "stream",
          "name": "stdout",
          "text": [
            "[[1. 0. 0.]\n",
            " [0. 1. 0.]\n",
            " [0. 0. 1.]]\n"
          ]
        }
      ]
    },
    {
      "cell_type": "markdown",
      "source": [
        "**8. np.diag()**"
      ],
      "metadata": {
        "id": "5JcM_ZzBd6pp"
      }
    },
    {
      "cell_type": "code",
      "source": [
        "arr = np.diag([1,2,3,4])\n",
        "print(arr)"
      ],
      "metadata": {
        "colab": {
          "base_uri": "https://localhost:8080/"
        },
        "id": "d0TN4BoteJlq",
        "outputId": "d62d263b-a304-454e-81bd-26167d416332"
      },
      "execution_count": 13,
      "outputs": [
        {
          "output_type": "stream",
          "name": "stdout",
          "text": [
            "[[1 0 0 0]\n",
            " [0 2 0 0]\n",
            " [0 0 3 0]\n",
            " [0 0 0 4]]\n"
          ]
        }
      ]
    }
  ]
}
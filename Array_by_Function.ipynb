{
  "nbformat": 4,
  "nbformat_minor": 0,
  "metadata": {
    "colab": {
      "provenance": [],
      "authorship_tag": "ABX9TyNa4uhIEPR9Klv0WytUpf6b",
      "include_colab_link": true
    },
    "kernelspec": {
      "name": "python3",
      "display_name": "Python 3"
    },
    "language_info": {
      "name": "python"
    }
  },
  "cells": [
    {
      "cell_type": "markdown",
      "metadata": {
        "id": "view-in-github",
        "colab_type": "text"
      },
      "source": [
        "<a href=\"https://colab.research.google.com/github/Kamalsharma209/NumPy-Practice/blob/main/Array_by_Function.ipynb\" target=\"_parent\"><img src=\"https://colab.research.google.com/assets/colab-badge.svg\" alt=\"Open In Colab\"/></a>"
      ]
    },
    {
      "cell_type": "markdown",
      "source": [
        "**ZEROS**\n"
      ],
      "metadata": {
        "id": "NGVGv_lkt4co"
      }
    },
    {
      "cell_type": "code",
      "source": [
        "import numpy as np\n",
        "a = np.zeros((3,4))\n",
        "print(a)\n",
        "print(a.ndim)"
      ],
      "metadata": {
        "colab": {
          "base_uri": "https://localhost:8080/"
        },
        "id": "x7-ydqnpt0EG",
        "outputId": "075bf9f3-36e8-4eb5-e616-e5a1e7e688a4"
      },
      "execution_count": 3,
      "outputs": [
        {
          "output_type": "stream",
          "name": "stdout",
          "text": [
            "[[0. 0. 0. 0.]\n",
            " [0. 0. 0. 0.]\n",
            " [0. 0. 0. 0.]]\n",
            "2\n"
          ]
        }
      ]
    },
    {
      "cell_type": "markdown",
      "source": [
        "**ONES**"
      ],
      "metadata": {
        "id": "Ga77XJkduPAp"
      }
    },
    {
      "cell_type": "code",
      "source": [
        "ar_ones = np.ones((3,4))\n",
        "print(ar_ones)"
      ],
      "metadata": {
        "colab": {
          "base_uri": "https://localhost:8080/"
        },
        "id": "KSVmKaghuU79",
        "outputId": "0af5bf37-e550-4b49-81f9-6760cd7f4669"
      },
      "execution_count": 4,
      "outputs": [
        {
          "output_type": "stream",
          "name": "stdout",
          "text": [
            "[[1. 1. 1. 1.]\n",
            " [1. 1. 1. 1.]\n",
            " [1. 1. 1. 1.]]\n"
          ]
        }
      ]
    },
    {
      "cell_type": "markdown",
      "source": [
        "EMPTY"
      ],
      "metadata": {
        "id": "nfwMI4oKuZZt"
      }
    },
    {
      "cell_type": "code",
      "source": [
        "ar_empty = np.empty((4))\n",
        "print(ar_empty)"
      ],
      "metadata": {
        "colab": {
          "base_uri": "https://localhost:8080/"
        },
        "id": "aniLCjX5uchs",
        "outputId": "5c352670-61d1-4267-ea08-69012bf672ba"
      },
      "execution_count": 6,
      "outputs": [
        {
          "output_type": "stream",
          "name": "stdout",
          "text": [
            "[4.73550817e-315 0.00000000e+000 6.52334991e-310 4.73039848e-315]\n"
          ]
        }
      ]
    },
    {
      "cell_type": "markdown",
      "source": [
        "**RANGE**"
      ],
      "metadata": {
        "id": "lr2cCcvmuiqo"
      }
    },
    {
      "cell_type": "code",
      "source": [
        "ar_range = np.arange(10)\n",
        "print(ar_range)"
      ],
      "metadata": {
        "colab": {
          "base_uri": "https://localhost:8080/"
        },
        "id": "t8nHlTl-ukfr",
        "outputId": "4fbe9d6d-cc13-44fc-8b1a-4fd8600f9228"
      },
      "execution_count": 7,
      "outputs": [
        {
          "output_type": "stream",
          "name": "stdout",
          "text": [
            "[0 1 2 3 4 5 6 7 8 9]\n"
          ]
        }
      ]
    },
    {
      "cell_type": "markdown",
      "source": [
        "**DIAGONAL FILLED WITH 1's**"
      ],
      "metadata": {
        "id": "E98hafeEuouk"
      }
    },
    {
      "cell_type": "code",
      "source": [
        "arr = np.eye(3)\n",
        "print(arr)"
      ],
      "metadata": {
        "colab": {
          "base_uri": "https://localhost:8080/"
        },
        "id": "aBg5TXcNuwAp",
        "outputId": "53604493-1bd4-4c5a-8dfb-a57e16e0022a"
      },
      "execution_count": 8,
      "outputs": [
        {
          "output_type": "stream",
          "name": "stdout",
          "text": [
            "[[1. 0. 0.]\n",
            " [0. 1. 0.]\n",
            " [0. 0. 1.]]\n"
          ]
        }
      ]
    },
    {
      "cell_type": "code",
      "source": [
        "ar_di = np.eye(3,4)\n",
        "print(ar_di)"
      ],
      "metadata": {
        "colab": {
          "base_uri": "https://localhost:8080/"
        },
        "id": "r-aGcaHbu0QY",
        "outputId": "1b9b1da4-60bd-4365-ba1a-477d95adecee"
      },
      "execution_count": 9,
      "outputs": [
        {
          "output_type": "stream",
          "name": "stdout",
          "text": [
            "[[1. 0. 0. 0.]\n",
            " [0. 1. 0. 0.]\n",
            " [0. 0. 1. 0.]]\n"
          ]
        }
      ]
    },
    {
      "cell_type": "markdown",
      "source": [
        "**LINE SPACE**"
      ],
      "metadata": {
        "id": "nxw8X-9lu66u"
      }
    },
    {
      "cell_type": "code",
      "source": [
        "ar_lin = np.linspace(0,20,num=5)\n",
        "print(ar_lin)"
      ],
      "metadata": {
        "colab": {
          "base_uri": "https://localhost:8080/"
        },
        "id": "NjTUW8M0u-Yj",
        "outputId": "5135e992-1ba6-4d1b-b38b-1b73e42945a5"
      },
      "execution_count": 11,
      "outputs": [
        {
          "output_type": "stream",
          "name": "stdout",
          "text": [
            "[ 0.  5. 10. 15. 20.]\n"
          ]
        }
      ]
    }
  ]
}
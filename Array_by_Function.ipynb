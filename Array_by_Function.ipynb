{
  "nbformat": 4,
  "nbformat_minor": 0,
  "metadata": {
    "colab": {
      "provenance": [],
      "authorship_tag": "ABX9TyPw8CKZHTLyfWujAxlUQSV+",
      "include_colab_link": true
    },
    "kernelspec": {
      "name": "python3",
      "display_name": "Python 3"
    },
    "language_info": {
      "name": "python"
    }
  },
  "cells": [
    {
      "cell_type": "markdown",
      "metadata": {
        "id": "view-in-github",
        "colab_type": "text"
      },
      "source": [
        "<a href=\"https://colab.research.google.com/github/Kamalsharma209/NumPy-Practice/blob/main/Array_by_Function.ipynb\" target=\"_parent\"><img src=\"https://colab.research.google.com/assets/colab-badge.svg\" alt=\"Open In Colab\"/></a>"
      ]
    },
    {
      "cell_type": "markdown",
      "source": [
        "**ZEROS**\n"
      ],
      "metadata": {
        "id": "NGVGv_lkt4co"
      }
    },
    {
      "cell_type": "code",
      "source": [
        "import numpy as np\n",
        "a = np.zeros((3,4))\n",
        "print(a)\n",
        "print(a.ndim)"
      ],
      "metadata": {
        "colab": {
          "base_uri": "https://localhost:8080/"
        },
        "id": "x7-ydqnpt0EG",
        "outputId": "075bf9f3-36e8-4eb5-e616-e5a1e7e688a4"
      },
      "execution_count": null,
      "outputs": [
        {
          "output_type": "stream",
          "name": "stdout",
          "text": [
            "[[0. 0. 0. 0.]\n",
            " [0. 0. 0. 0.]\n",
            " [0. 0. 0. 0.]]\n",
            "2\n"
          ]
        }
      ]
    },
    {
      "cell_type": "markdown",
      "source": [
        "**ONES**"
      ],
      "metadata": {
        "id": "Ga77XJkduPAp"
      }
    },
    {
      "cell_type": "code",
      "source": [
        "ar_ones = np.ones((3,4))\n",
        "print(ar_ones)"
      ],
      "metadata": {
        "colab": {
          "base_uri": "https://localhost:8080/"
        },
        "id": "KSVmKaghuU79",
        "outputId": "0af5bf37-e550-4b49-81f9-6760cd7f4669"
      },
      "execution_count": null,
      "outputs": [
        {
          "output_type": "stream",
          "name": "stdout",
          "text": [
            "[[1. 1. 1. 1.]\n",
            " [1. 1. 1. 1.]\n",
            " [1. 1. 1. 1.]]\n"
          ]
        }
      ]
    },
    {
      "cell_type": "markdown",
      "source": [
        "EMPTY"
      ],
      "metadata": {
        "id": "nfwMI4oKuZZt"
      }
    },
    {
      "cell_type": "code",
      "source": [
        "ar_empty = np.empty((4))\n",
        "print(ar_empty)"
      ],
      "metadata": {
        "colab": {
          "base_uri": "https://localhost:8080/"
        },
        "id": "aniLCjX5uchs",
        "outputId": "5c352670-61d1-4267-ea08-69012bf672ba"
      },
      "execution_count": null,
      "outputs": [
        {
          "output_type": "stream",
          "name": "stdout",
          "text": [
            "[4.73550817e-315 0.00000000e+000 6.52334991e-310 4.73039848e-315]\n"
          ]
        }
      ]
    },
    {
      "cell_type": "markdown",
      "source": [
        "**RANGE**"
      ],
      "metadata": {
        "id": "lr2cCcvmuiqo"
      }
    },
    {
      "cell_type": "code",
      "source": [
        "ar_range = np.arange(10)\n",
        "print(ar_range)"
      ],
      "metadata": {
        "colab": {
          "base_uri": "https://localhost:8080/"
        },
        "id": "t8nHlTl-ukfr",
        "outputId": "4fbe9d6d-cc13-44fc-8b1a-4fd8600f9228"
      },
      "execution_count": null,
      "outputs": [
        {
          "output_type": "stream",
          "name": "stdout",
          "text": [
            "[0 1 2 3 4 5 6 7 8 9]\n"
          ]
        }
      ]
    },
    {
      "cell_type": "markdown",
      "source": [
        "**DIAGONAL FILLED WITH 1's**"
      ],
      "metadata": {
        "id": "E98hafeEuouk"
      }
    },
    {
      "cell_type": "code",
      "source": [
        "arr = np.eye(3)\n",
        "print(arr)"
      ],
      "metadata": {
        "colab": {
          "base_uri": "https://localhost:8080/"
        },
        "id": "aBg5TXcNuwAp",
        "outputId": "53604493-1bd4-4c5a-8dfb-a57e16e0022a"
      },
      "execution_count": null,
      "outputs": [
        {
          "output_type": "stream",
          "name": "stdout",
          "text": [
            "[[1. 0. 0.]\n",
            " [0. 1. 0.]\n",
            " [0. 0. 1.]]\n"
          ]
        }
      ]
    },
    {
      "cell_type": "code",
      "source": [
        "ar_di = np.eye(3,4)\n",
        "print(ar_di)"
      ],
      "metadata": {
        "colab": {
          "base_uri": "https://localhost:8080/"
        },
        "id": "r-aGcaHbu0QY",
        "outputId": "1b9b1da4-60bd-4365-ba1a-477d95adecee"
      },
      "execution_count": null,
      "outputs": [
        {
          "output_type": "stream",
          "name": "stdout",
          "text": [
            "[[1. 0. 0. 0.]\n",
            " [0. 1. 0. 0.]\n",
            " [0. 0. 1. 0.]]\n"
          ]
        }
      ]
    },
    {
      "cell_type": "markdown",
      "source": [
        "**LINE SPACE**"
      ],
      "metadata": {
        "id": "nxw8X-9lu66u"
      }
    },
    {
      "cell_type": "code",
      "source": [
        "ar_lin = np.linspace(0,20,num=5)\n",
        "print(ar_lin)"
      ],
      "metadata": {
        "colab": {
          "base_uri": "https://localhost:8080/"
        },
        "id": "NjTUW8M0u-Yj",
        "outputId": "5135e992-1ba6-4d1b-b38b-1b73e42945a5"
      },
      "execution_count": null,
      "outputs": [
        {
          "output_type": "stream",
          "name": "stdout",
          "text": [
            "[ 0.  5. 10. 15. 20.]\n"
          ]
        }
      ]
    },
    {
      "cell_type": "markdown",
      "source": [
        "**SUM OF ARRAY ELEMENT**"
      ],
      "metadata": {
        "id": "8JWx74KUHa8Z"
      }
    },
    {
      "cell_type": "code",
      "source": [
        "import numpy as np\n",
        "arr=((3,4,1,2,5))\n",
        "a = np.sum(arr)\n",
        "print(a)"
      ],
      "metadata": {
        "colab": {
          "base_uri": "https://localhost:8080/"
        },
        "id": "MTR3NMNMHliC",
        "outputId": "a924915a-d204-4838-e49e-f9c0ce27df1a"
      },
      "execution_count": null,
      "outputs": [
        {
          "output_type": "stream",
          "name": "stdout",
          "text": [
            "15\n"
          ]
        }
      ]
    },
    {
      "cell_type": "markdown",
      "source": [
        "**Mean**"
      ],
      "metadata": {
        "id": "bkw8r8lrISgV"
      }
    },
    {
      "cell_type": "code",
      "source": [
        "a=np.mean(arr)\n",
        "print(a)"
      ],
      "metadata": {
        "colab": {
          "base_uri": "https://localhost:8080/"
        },
        "id": "i89A0ySPIVKr",
        "outputId": "55685e1e-45c0-4287-ce09-ed604cbd3e1a"
      },
      "execution_count": null,
      "outputs": [
        {
          "output_type": "stream",
          "name": "stdout",
          "text": [
            "3.0\n"
          ]
        }
      ]
    },
    {
      "cell_type": "markdown",
      "source": [
        "**Median**"
      ],
      "metadata": {
        "id": "dO_SvWiUIbAz"
      }
    },
    {
      "cell_type": "code",
      "source": [
        "n = np.median(arr)\n",
        "print(n)"
      ],
      "metadata": {
        "colab": {
          "base_uri": "https://localhost:8080/"
        },
        "id": "CVOQc-arId96",
        "outputId": "c77e1452-051f-41a1-d7fb-6537066864b4"
      },
      "execution_count": null,
      "outputs": [
        {
          "output_type": "stream",
          "name": "stdout",
          "text": [
            "3.0\n"
          ]
        }
      ]
    },
    {
      "cell_type": "markdown",
      "source": [
        "**Minimum Value**"
      ],
      "metadata": {
        "id": "1ssAVA7hJ75J"
      }
    },
    {
      "cell_type": "code",
      "source": [
        "a = np.min(arr)\n",
        "print(a)"
      ],
      "metadata": {
        "colab": {
          "base_uri": "https://localhost:8080/"
        },
        "id": "npJmfZC9KECD",
        "outputId": "0b18ea23-dda5-4ddc-a571-18145c4cfe78"
      },
      "execution_count": null,
      "outputs": [
        {
          "output_type": "stream",
          "name": "stdout",
          "text": [
            "1\n"
          ]
        }
      ]
    },
    {
      "cell_type": "markdown",
      "source": [
        "**Maximum Value**"
      ],
      "metadata": {
        "id": "FC1oIBZwKJoi"
      }
    },
    {
      "cell_type": "code",
      "source": [
        "a = np.max(arr)\n",
        "print(a)"
      ],
      "metadata": {
        "colab": {
          "base_uri": "https://localhost:8080/"
        },
        "id": "OnCIZhfzKORt",
        "outputId": "387a9733-c0bd-4f3f-a285-a995589d2aa2"
      },
      "execution_count": null,
      "outputs": [
        {
          "output_type": "stream",
          "name": "stdout",
          "text": [
            "5\n"
          ]
        }
      ]
    },
    {
      "cell_type": "markdown",
      "source": [
        "**Standard Deviation**"
      ],
      "metadata": {
        "id": "a_omXw1gKXff"
      }
    },
    {
      "cell_type": "code",
      "source": [
        "a =  np.std(arr)\n",
        "print(a)"
      ],
      "metadata": {
        "colab": {
          "base_uri": "https://localhost:8080/"
        },
        "id": "BvC06Ph9KcmO",
        "outputId": "5a4c8c02-f190-4b49-db41-b0185ee23790"
      },
      "execution_count": null,
      "outputs": [
        {
          "output_type": "stream",
          "name": "stdout",
          "text": [
            "1.4142135623730951\n"
          ]
        }
      ]
    },
    {
      "cell_type": "markdown",
      "source": [
        "Reshaping Arrays"
      ],
      "metadata": {
        "id": "dXmQgzG3LDnf"
      }
    },
    {
      "cell_type": "code",
      "source": [
        "a = np.reshape(arr, (-1, 1))\n",
        "print(a)"
      ],
      "metadata": {
        "colab": {
          "base_uri": "https://localhost:8080/"
        },
        "id": "Q2II1NfuKviX",
        "outputId": "06df11d9-0e82-4088-a9cc-56cd45099631"
      },
      "execution_count": null,
      "outputs": [
        {
          "output_type": "stream",
          "name": "stdout",
          "text": [
            "[[3]\n",
            " [4]\n",
            " [1]\n",
            " [2]\n",
            " [5]]\n"
          ]
        }
      ]
    },
    {
      "cell_type": "markdown",
      "source": [
        "**Sorting**"
      ],
      "metadata": {
        "id": "JSDrJkf-LcWM"
      }
    },
    {
      "cell_type": "code",
      "source": [
        "a = np.sort(arr)\n",
        "print(a)"
      ],
      "metadata": {
        "colab": {
          "base_uri": "https://localhost:8080/"
        },
        "id": "Y0B5guKsLhrO",
        "outputId": "abd00d8c-38f4-4880-8c65-91319b5e28e1"
      },
      "execution_count": null,
      "outputs": [
        {
          "output_type": "stream",
          "name": "stdout",
          "text": [
            "[1 2 3 4 5]\n"
          ]
        }
      ]
    },
    {
      "cell_type": "markdown",
      "source": [
        "**Boolean Indexing**"
      ],
      "metadata": {
        "id": "9yvoxOn0LnUZ"
      }
    },
    {
      "cell_type": "code",
      "source": [
        "grades = np.array([85, 90, 78, 92, 88])\n",
        "a = grades[grades >= 3]\n",
        "print(a)"
      ],
      "metadata": {
        "colab": {
          "base_uri": "https://localhost:8080/"
        },
        "id": "zsMAIoQQLrSE",
        "outputId": "cb73eccf-30da-4ea4-fb17-f3574440af8e"
      },
      "execution_count": null,
      "outputs": [
        {
          "output_type": "stream",
          "name": "stdout",
          "text": [
            "[85 90 78 92 88]\n"
          ]
        }
      ]
    },
    {
      "cell_type": "markdown",
      "source": [
        "**Finding Indeces**"
      ],
      "metadata": {
        "id": "iFVYicmRMyUq"
      }
    },
    {
      "cell_type": "code",
      "source": [
        "a = np.where(grades >= 88)\n",
        "print(a)"
      ],
      "metadata": {
        "colab": {
          "base_uri": "https://localhost:8080/"
        },
        "id": "353Nfid7M43f",
        "outputId": "7d2abd5d-cfaf-4692-9b44-5dbcfb022455"
      },
      "execution_count": null,
      "outputs": [
        {
          "output_type": "stream",
          "name": "stdout",
          "text": [
            "(array([1, 3, 4]),)\n"
          ]
        }
      ]
    }
  ]
}